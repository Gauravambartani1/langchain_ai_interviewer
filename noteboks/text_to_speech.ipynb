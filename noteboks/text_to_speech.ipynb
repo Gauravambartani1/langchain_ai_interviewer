{
 "cells": [
  {
   "cell_type": "code",
   "execution_count": null,
   "id": "9d0fbe25",
   "metadata": {},
   "outputs": [
    {
     "name": "stderr",
     "output_type": "stream",
     "text": [
      "c:\\Users\\GauravAmbartani\\miniconda3\\Lib\\site-packages\\tqdm\\auto.py:21: TqdmWarning: IProgress not found. Please update jupyter and ipywidgets. See https://ipywidgets.readthedocs.io/en/stable/user_install.html\n",
      "  from .autonotebook import tqdm as notebook_tqdm\n"
     ]
    }
   ],
   "source": [
    "import sounddevice as sd\n",
    "import numpy as np\n",
    "import queue\n",
    "import threading\n",
    "from faster_whisper import WhisperModel"
   ]
  },
  {
   "cell_type": "code",
   "execution_count": null,
   "id": "512e6080",
   "metadata": {},
   "outputs": [
    {
     "name": "stderr",
     "output_type": "stream",
     "text": [
      "Xet Storage is enabled for this repo, but the 'hf_xet' package is not installed. Falling back to regular HTTP download. For better performance, install the package with: `pip install huggingface_hub[hf_xet]` or `pip install hf_xet`\n",
      "c:\\Users\\GauravAmbartani\\miniconda3\\Lib\\site-packages\\huggingface_hub\\file_download.py:143: UserWarning: `huggingface_hub` cache-system uses symlinks by default to efficiently store duplicated files but your machine does not support them in C:\\Users\\GauravAmbartani\\.cache\\huggingface\\hub\\models--Systran--faster-whisper-base. Caching files will still work but in a degraded version that might require more space on your disk. This warning can be disabled by setting the `HF_HUB_DISABLE_SYMLINKS_WARNING` environment variable. For more details, see https://huggingface.co/docs/huggingface_hub/how-to-cache#limitations.\n",
      "To support symlinks on Windows, you either need to activate Developer Mode or to run Python as an administrator. In order to activate developer mode, see this article: https://docs.microsoft.com/en-us/windows/apps/get-started/enable-your-device-for-development\n",
      "  warnings.warn(message)\n"
     ]
    },
    {
     "name": "stdout",
     "output_type": "stream",
     "text": [
      "Listening... Press Ctrl+C to stop.\n",
      "input overflow\n",
      " Oh, is it?\n"
     ]
    },
    {
     "ename": "",
     "evalue": "",
     "output_type": "error",
     "traceback": [
      "\u001b[1;31mThe Kernel crashed while executing code in the current cell or a previous cell. \n",
      "\u001b[1;31mPlease review the code in the cell(s) to identify a possible cause of the failure. \n",
      "\u001b[1;31mClick <a href='https://aka.ms/vscodeJupyterKernelCrash'>here</a> for more info. \n",
      "\u001b[1;31mView Jupyter <a href='command:jupyter.viewOutput'>log</a> for further details."
     ]
    }
   ],
   "source": [
    "\n",
    "samplerate = 16000\n",
    "block_duration = 0.5  # seconds\n",
    "chunk_duration = 2    # seconds\n",
    "channels = 1\n",
    "frames_per_block = int(samplerate * block_duration)\n",
    "frames_per_chunk = int(samplerate * chunk_duration)\n",
    "audio_queue = queue.Queue()\n",
    "audio_buffer = []\n",
    "\n",
    "# Model setup\n",
    "#model = WhisperModel(\"large-v3\", device=\"cpu\", compute_type=\"int8\")\n",
    "\n",
    "#model = WhisperModel(\"small\", device=\"cpu\", compute_type=\"int8\")\n",
    "\n",
    "model = WhisperModel(\"base\", device=\"cpu\", compute_type=\"int8\")\n",
    "\n",
    "\n",
    "def audio_callback(indata, frames, time, status):\n",
    "    if status:\n",
    "        print(status)\n",
    "    audio_queue.put(indata.copy())\n",
    "\n",
    "def recorder():\n",
    "    with sd.InputStream(samplerate=samplerate, channels=channels, callback=audio_callback, blocksize=frames_per_block):\n",
    "        print(\"Listening... Press Ctrl+C to stop.\")\n",
    "        while True:\n",
    "            sd.sleep(100)\n",
    "\n",
    "def transcriber():\n",
    "    global audio_buffer\n",
    "    try:\n",
    "        while True:\n",
    "            block = audio_queue.get()\n",
    "            audio_buffer.append(block)\n",
    "            total_frames = sum(len(b) for b in audio_buffer)\n",
    "            if total_frames >= frames_per_chunk:\n",
    "                audio_data = np.concatenate(audio_buffer)[:frames_per_chunk]\n",
    "                audio_buffer = []  # Clear buffer\n",
    "                audio_data = audio_data.flatten().astype(np.float32)\n",
    "\n",
    "                # Transcription\n",
    "                segments, _ = model.transcribe(\n",
    "                    audio_data,\n",
    "                    language=\"en\",\n",
    "                    beam_size=1\n",
    "                )\n",
    "\n",
    "                for segment in segments:\n",
    "                    print(f\"{segment.text}\")\n",
    "    except KeyboardInterrupt:\n",
    "        print(\"\\nTranscription stopped by user.\")\n",
    "\n",
    "# Start recorder thread and run transcriber\n",
    "threading.Thread(target=recorder, daemon=True).start()\n",
    "transcriber()\n",
    "\n",
    "\n",
    "\n",
    "\n"
   ]
  },
  {
   "cell_type": "code",
   "execution_count": null,
   "id": "36b71921",
   "metadata": {},
   "outputs": [],
   "source": []
  },
  {
   "cell_type": "code",
   "execution_count": null,
   "id": "f2f8dbad",
   "metadata": {},
   "outputs": [],
   "source": []
  },
  {
   "cell_type": "code",
   "execution_count": null,
   "id": "3e66efab",
   "metadata": {},
   "outputs": [],
   "source": []
  }
 ],
 "metadata": {
  "kernelspec": {
   "display_name": "base",
   "language": "python",
   "name": "python3"
  },
  "language_info": {
   "codemirror_mode": {
    "name": "ipython",
    "version": 3
   },
   "file_extension": ".py",
   "mimetype": "text/x-python",
   "name": "python",
   "nbconvert_exporter": "python",
   "pygments_lexer": "ipython3",
   "version": "3.12.9"
  }
 },
 "nbformat": 4,
 "nbformat_minor": 5
}
